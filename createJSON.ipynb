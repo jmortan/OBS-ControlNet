{
 "cells": [
  {
   "cell_type": "code",
   "execution_count": 6,
   "metadata": {},
   "outputs": [],
   "source": [
    "import pandas as pd\n",
    "import os\n",
    "import json"
   ]
  },
  {
   "cell_type": "code",
   "execution_count": 3,
   "metadata": {},
   "outputs": [
    {
     "name": "stdout",
     "output_type": "stream",
     "text": [
      "['60A00_0.png', '60A00_1.png', '60A00_10.png', '60A00_11.png', '60A00_12.png', '60A00_13.png', '60A00_14.png', '60A00_15.png', '60A00_16.png', '60A00_17.png', '60A00_18.png', '60A00_19.png', '60A00_2.png', '60A00_20.png', '60A00_21.png', '60A00_3.png', '60A00_4.png', '60A00_5.png', '60A00_6.png', '60A00_7.png', '60A00_8.png', '60A00_9.png']\n"
     ]
    }
   ],
   "source": [
    "directory = \"60A00\"\n",
    "file_list = os.listdir(r\"./HWOBC数据集/sample/\" + directory)\n",
    "print(file_list)"
   ]
  },
  {
   "cell_type": "code",
   "execution_count": 7,
   "metadata": {},
   "outputs": [],
   "source": [
    "def createJSON():\n",
    "    df = pd.read_csv('hwobc_dict.csv')\n",
    "    for idx in df.index: \n",
    "        #Find all files in directory\n",
    "        directory = df['key'][idx]\n",
    "        file_list = os.listdir(r\"./HWOBC数据集/sample/\" + directory)\n",
    "        for file in file_list: \n",
    "            dictionary = {\n",
    "                \"source\": \"source/\"+directory+\"/\"+file,\n",
    "                \"target\": \"target/\"+directory+\"_FTZ.png\",\n",
    "                \"prompt\": \"traditional chinese character\",\n",
    "            }\n",
    "            json_string = json.dumps(dictionary)\n",
    "            with open(\"prompt.json\", \"a\") as outfile:\n",
    "                outfile.write(json_string + \"\\n\")"
   ]
  },
  {
   "cell_type": "code",
   "execution_count": 8,
   "metadata": {},
   "outputs": [],
   "source": [
    "createJSON()"
   ]
  }
 ],
 "metadata": {
  "kernelspec": {
   "display_name": "Python 3",
   "language": "python",
   "name": "python3"
  },
  "language_info": {
   "codemirror_mode": {
    "name": "ipython",
    "version": 3
   },
   "file_extension": ".py",
   "mimetype": "text/x-python",
   "name": "python",
   "nbconvert_exporter": "python",
   "pygments_lexer": "ipython3",
   "version": "3.10.0"
  }
 },
 "nbformat": 4,
 "nbformat_minor": 2
}
